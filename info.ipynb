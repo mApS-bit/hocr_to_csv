{
 "cells": [
  {
   "cell_type": "code",
   "execution_count": 1,
   "id": "55a16d37-dd52-4680-9971-d07dfb3f31d9",
   "metadata": {},
   "outputs": [],
   "source": [
    "import re\n",
    "import pandas as pd\n",
    "from bs4 import BeautifulSoup\n",
    "import numpy as np"
   ]
  },
  {
   "cell_type": "code",
   "execution_count": 2,
   "id": "d4b058a3-467c-499d-ad67-6c2bf3f6b805",
   "metadata": {},
   "outputs": [],
   "source": [
    "def parse_hocr(path):\n",
    "    with open(path, 'r', encoding='utf-8') as file:\n",
    "        return BeautifulSoup(file, 'html.parser')"
   ]
  },
  {
   "cell_type": "code",
   "execution_count": 3,
   "id": "832c3e36-d6a4-44b1-910f-facd15aa5871",
   "metadata": {},
   "outputs": [],
   "source": [
    "def extract_text_positions(soup):\n",
    "    data = []\n",
    "    for span in soup.find_all(class_=['ocrx_word']):\n",
    "        title = span.get('title', '')\n",
    "        coords = re.findall(r'bbox (\\d+) (\\d+) (\\d+) (\\d+)', title)\n",
    "        if coords:\n",
    "            x1, y1, x2, y2 = map(int, coords[0])\n",
    "            text = span.get_text().strip()\n",
    "            if text:\n",
    "                data.append({'text': text, 'x1': x1, 'y1': y1, 'x2': x2, 'y2': y2})\n",
    "    return data"
   ]
  },
  {
   "cell_type": "code",
   "execution_count": 4,
   "id": "2e16971a-a477-486f-a645-db26291d0a96",
   "metadata": {},
   "outputs": [],
   "source": [
    "def order_data(data):\n",
    "    return sorted(data, key=lambda item: (item['y1'], item['x1']))"
   ]
  },
  {
   "cell_type": "code",
   "execution_count": 5,
   "id": "145dc764-b70a-455e-a908-9b2b573491bc",
   "metadata": {},
   "outputs": [],
   "source": [
    "def group_into_rows(data, y_tolerance=10):\n",
    "    rows = []\n",
    "    current_row = []\n",
    "    last_y = None\n",
    "\n",
    "    for item in data:\n",
    "        if last_y is None or abs(item['y1'] - last_y) <= y_tolerance:\n",
    "            current_row.append(item)\n",
    "        else:\n",
    "            rows.append(current_row)\n",
    "            current_row = [item]\n",
    "        last_y = item['y1']\n",
    "    if current_row:\n",
    "        rows.append(current_row)\n",
    "    return rows\n"
   ]
  },
  {
   "cell_type": "code",
   "execution_count": 6,
   "id": "0efba374-3f6e-4de0-86f9-14e69109e065",
   "metadata": {},
   "outputs": [],
   "source": [
    "def detect_columns(rows, x_tolerance=30):\n",
    "    \"\"\"Encuentra las posiciones de columna más comunes.\"\"\"\n",
    "    x_positions = []\n",
    "    for row in rows:\n",
    "        for cell in row:\n",
    "            x_positions.append(cell['x1'])\n",
    "    x_positions = sorted(x_positions)\n",
    "    \n",
    "    # Agrupamos valores cercanos en rangos\n",
    "    columns = []\n",
    "    current_group = [x_positions[0]]\n",
    "    for x in x_positions[1:]:\n",
    "        if abs(x - np.mean(current_group)) <= x_tolerance:\n",
    "            current_group.append(x)\n",
    "        else:\n",
    "            columns.append(int(np.mean(current_group)))\n",
    "            current_group = [x]\n",
    "    columns.append(int(np.mean(current_group)))\n",
    "    return columns\n"
   ]
  },
  {
   "cell_type": "code",
   "execution_count": 7,
   "id": "fbacf5d2-16e5-4418-a86b-5badc00c1f4a",
   "metadata": {},
   "outputs": [],
   "source": [
    "def clean_and_normalize_table(table):\n",
    "    # Elimina filas vacías o casi vacías\n",
    "    cleaned = [row for row in table if sum(1 for cell in row if cell.strip()) > 1]\n",
    "    # Encuentra el máximo número de columnas\n",
    "    max_cols = max(len(row) for row in cleaned)\n",
    "    # Normaliza el número de columnas\n",
    "    normalized = [row + [''] * (max_cols - len(row)) for row in cleaned]\n",
    "    return normalized\n"
   ]
  },
  {
   "cell_type": "code",
   "execution_count": 8,
   "id": "a92c7357-3687-419e-8897-95e352ca27ab",
   "metadata": {},
   "outputs": [],
   "source": [
    "def build_csv(rows, output_path='output.csv', x_tolerance=30):\n",
    "    columns = detect_columns(rows, x_tolerance)\n",
    "    table = []\n",
    "\n",
    "    for row in rows:\n",
    "        line = [''] * len(columns)\n",
    "        for cell in row:\n",
    "            x = cell['x1']\n",
    "            idx = min(range(len(columns)), key=lambda i: abs(columns[i] - x))\n",
    "            if line[idx]:\n",
    "                line[idx] += ' ' + cell['text']\n",
    "            else:\n",
    "                line[idx] = cell['text']\n",
    "        table.append(line)\n",
    "\n",
    "    # Limpieza y normalización\n",
    "    table = clean_and_normalize_table(table)\n",
    "\n",
    "    df = pd.DataFrame(table)\n",
    "    df.to_csv(output_path, index=False, header=False)\n",
    "    print(f\"CSV generado: {output_path}\")\n"
   ]
  },
  {
   "cell_type": "code",
   "execution_count": 9,
   "id": "d2504654-b6cf-4bcd-9581-4b5bd6ef257f",
   "metadata": {},
   "outputs": [],
   "source": [
    "def hocr_to_csv(input_path, output_path='output.csv'):\n",
    "    soup = parse_hocr(input_path)\n",
    "    data = extract_text_positions(soup)\n",
    "    ordered = order_data(data)\n",
    "    rows = group_into_rows(ordered)\n",
    "    build_csv(rows, output_path)\n"
   ]
  },
  {
   "cell_type": "code",
   "execution_count": 12,
   "id": "07424e90-c838-4def-bc43-eaf802240627",
   "metadata": {},
   "outputs": [
    {
     "name": "stdout",
     "output_type": "stream",
     "text": [
      "CSV generado: files/csv_files/1C_5.hocr.csv\n",
      "CSV generado: files/csv_files/1E_1.hocr.csv\n",
      "CSV generado: files/csv_files/3T_4.hocr.csv\n"
     ]
    }
   ],
   "source": [
    "names = ['1C_5.hocr', '1E_1.hocr', '3T_4.hocr']\n",
    "for name in names:\n",
    "    hocr_input = 'files/hocr_files/' + name\n",
    "    csv_output = 'files/csv_files/' + name + '.csv'\n",
    "    hocr_to_csv(hocr_input, csv_output)"
   ]
  },
  {
   "cell_type": "code",
   "execution_count": null,
   "id": "6020a4de-6619-4d32-ab33-79b50d28dca9",
   "metadata": {},
   "outputs": [],
   "source": []
  }
 ],
 "metadata": {
  "kernelspec": {
   "display_name": "Python 3 (ipykernel)",
   "language": "python",
   "name": "python3"
  },
  "language_info": {
   "codemirror_mode": {
    "name": "ipython",
    "version": 3
   },
   "file_extension": ".py",
   "mimetype": "text/x-python",
   "name": "python",
   "nbconvert_exporter": "python",
   "pygments_lexer": "ipython3",
   "version": "3.11.2"
  }
 },
 "nbformat": 4,
 "nbformat_minor": 5
}
